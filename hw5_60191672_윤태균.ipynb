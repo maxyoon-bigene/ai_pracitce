{
 "cells": [
  {
   "cell_type": "code",
   "execution_count": 17,
   "metadata": {},
   "outputs": [
    {
     "name": "stdout",
     "output_type": "stream",
     "text": [
      "     A  A_minmax_normalization  B_big  B_median  B_small\n",
      "0  100                     1.0      1         0        0\n",
      "1    0                     0.0      0         0        1\n",
      "2   40                     0.4      0         1        0\n",
      "3   80                     0.8      1         0        0\n",
      "4   20                     0.2      0         0        1\n"
     ]
    }
   ],
   "source": [
    "\"\"\"\n",
    "60191672 윤태균\n",
    " HW 5 5번 문제 : A컬럼은 0~1로 정규화(Min-Max normalization), \n",
    "                 B컬럼은 one-hot encoding 수행\n",
    "\"\"\"\n",
    "import pandas as pd\n",
    "from sklearn.preprocessing import scale, minmax_scale\n",
    "\n",
    "#데이터 구성\n",
    "x = pd.DataFrame({'A':[100,0,40,80,20],\n",
    "                 'B':['big','small','median','big','small']})\n",
    "\n",
    "#0~1 사이의 값으로 정규화\n",
    "x[\"A_minmax_normalization\"] = minmax_scale(x.A.astype(float))\n",
    "\n",
    "#'B'열을  one-hot-encoding\n",
    "x = pd.get_dummies(x, prefix=['B'])\n",
    "\n",
    "print(x)"
   ]
  },
  {
   "cell_type": "code",
   "execution_count": null,
   "metadata": {},
   "outputs": [],
   "source": []
  }
 ],
 "metadata": {
  "kernelspec": {
   "display_name": "Python 3",
   "language": "python",
   "name": "python3"
  },
  "language_info": {
   "codemirror_mode": {
    "name": "ipython",
    "version": 3
   },
   "file_extension": ".py",
   "mimetype": "text/x-python",
   "name": "python",
   "nbconvert_exporter": "python",
   "pygments_lexer": "ipython3",
   "version": "3.7.1"
  }
 },
 "nbformat": 4,
 "nbformat_minor": 2
}
