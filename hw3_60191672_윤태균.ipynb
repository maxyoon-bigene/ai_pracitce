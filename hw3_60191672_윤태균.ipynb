{
 "cells": [
  {
   "cell_type": "code",
   "execution_count": null,
   "metadata": {},
   "outputs": [],
   "source": [
    "\"\"\"\n",
    "60191672  윤태균\n",
    "\n",
    "한빛출판사에 로그인하여 마이페이지에서 마일리지와 이코인 값을 수집하는 기능을 수행\n",
    "\n",
    "\"\"\"\n",
    "\n",
    "import requests\n",
    "from bs4 import BeautifulSoup\n",
    "from urllib.parse import urljoin\n",
    "\n",
    "USER = \"wizen010\"\n",
    "PASS = \"wizen512@\"\n",
    "\n",
    "session = requests.session()  #세션 객체 생성\n",
    "\n",
    "login_info = {     #로그인 정보 (한빛출판사에서의 변수 사용\n",
    "    \"m_id\" :USER,\n",
    "    \"m_passwd\" :PASS\n",
    "}\n",
    "\n",
    "url_login = \"https://www.hanbit.co.kr/member/login_proc.php\"\n",
    "res = session.post(url_login, data = login_info)   #post방식으로 실행  로그인\n",
    "res.raise_for_status()    #에러 발생시 표시\n",
    "\n",
    "url_mypage = \"https://www.hanbit.co.kr/myhanbit/myhanbit.html\"   \n",
    "res = session.get(url_mypage)     #마이페이지 접근\n",
    "res.raise_for_status()\n",
    "\n",
    "soup = BeautifulSoup(res.text,\"html.parser\")   #텍스트 형식으로 parser받기\n",
    "mileage = soup.select_one(\"#container > div > div.sm_mymileage > dl.mileage_section1 > dd > span\").get_text()  #마일리지 값 받기\n",
    "ecoin = soup.select_one(\"#container > div > div.sm_mymileage > dl.mileage_section2 > dd > span\").get_text()     #이코인 값 받기\n",
    "\n",
    "print(\"마일리지: \",mileage)  #출력\n",
    "print(\"이코인: \",ecoin)\n"
   ]
  }
 ],
 "metadata": {
  "kernelspec": {
   "display_name": "Python 3",
   "language": "python",
   "name": "python3"
  },
  "language_info": {
   "codemirror_mode": {
    "name": "ipython",
    "version": 3
   },
   "file_extension": ".py",
   "mimetype": "text/x-python",
   "name": "python",
   "nbconvert_exporter": "python",
   "pygments_lexer": "ipython3",
   "version": "3.7.1"
  }
 },
 "nbformat": 4,
 "nbformat_minor": 2
}
